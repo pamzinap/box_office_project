{
 "cells": [
  {
   "cell_type": "code",
   "execution_count": null,
   "metadata": {},
   "outputs": [],
   "source": [
    "import re\n",
    "\n",
    "text = \"\"\"\n",
    "html код со страницы\n",
    "\"\"\"\n",
    "pattern = re.compile(r'film/([^/]+)/')\n",
    "\n",
    "all_matches = pattern.findall(text)\n",
    "\n",
    "unique_matches = list(dict.fromkeys(all_matches))\n",
    "\n",
    "print(f\"Найдено уникальных вхождений: {len(unique_matches)}\")\n",
    "print(\"Содержимое между слешами:\")\n",
    "for match in unique_matches:\n",
    "    print(match)"
   ]
  },
  {
   "cell_type": "code",
   "execution_count": null,
   "metadata": {},
   "outputs": [],
   "source": [
    "import requests\n",
    "\n",
    "API_KEY = \"77399dc3-7c77-44ac-bdce-7689352e03ec\"\n",
    "\n",
    "film_ids_text = \"\"\"\n",
    "найденные id\n",
    "\"\"\"\n",
    "\n",
    "headers = {\n",
    "    \"X-API-KEY\": API_KEY,\n",
    "    \"Content-Type\": \"application/json\"\n",
    "}\n",
    "\n",
    "film_ids_list = [line.strip() for line in film_ids_text.strip().splitlines() if line.strip()]\n",
    "\n",
    "films_data = []\n",
    "\n",
    "for film_id in film_ids_list:\n",
    "    try:\n",
    "        url = f\"https://kinopoiskapiunofficial.tech/api/v2.2/films/{film_id}\"\n",
    "        response = requests.get(url, headers=headers)\n",
    "        response.raise_for_status()\n",
    "        data = response.json()\n",
    "\n",
    "\n",
    "        print(data)\n",
    "\n",
    "\n",
    "        films_data.append(data)\n",
    "    except requests.exceptions.RequestException as e:\n",
    "        print(f\"Ошибка при запросе ID {film_id}: {e}\")\n"
   ]
  }
 ],
 "metadata": {
  "language_info": {
   "name": "python"
  }
 },
 "nbformat": 4,
 "nbformat_minor": 2
}
